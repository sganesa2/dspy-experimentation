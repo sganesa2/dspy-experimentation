{
 "cells": [
  {
   "cell_type": "code",
   "execution_count": 3,
   "metadata": {},
   "outputs": [
    {
     "data": {
      "text/plain": [
       "True"
      ]
     },
     "execution_count": 3,
     "metadata": {},
     "output_type": "execute_result"
    }
   ],
   "source": [
    "\n",
    "import dspy\n",
    "import os\n",
    "from pathlib import Path\n",
    "from dotenv import load_dotenv\n",
    "load_dotenv(Path(r\"utils/.env\"))"
   ]
  },
  {
   "cell_type": "code",
   "execution_count": null,
   "metadata": {},
   "outputs": [
    {
     "name": "stdout",
     "output_type": "stream",
     "text": [
      "Loading default colbert model for language en\n",
      "Default Model: colbert-ir/colbertv2.0\n",
      "Loading ColBERTRanker model colbert-ir/colbertv2.0 (this message can be suppressed by setting verbose=0)\n",
      "No device set\n",
      "Using device mps\n",
      "No dtype set\n",
      "Using dtype torch.float32\n",
      "Loading model colbert-ir/colbertv2.0, this might take a while...\n",
      "Linear Dim set to: 128 for downcasting\n"
     ]
    }
   ],
   "source": [
    "from utils.rec_system import RecSysDataset, RecommendationSystem\n",
    "from utils.retriever import ColbertRetriever\n",
    "from utils.metrics import precision_at_k\n",
    "import json\n",
    "\n",
    "#Complete list of products to retrieve from\n",
    "with open(Path(r\"./products.json\"), 'r') as f:\n",
    "    product_json = json.loads(f.read())\n",
    "\n",
    "#Input\n",
    "query = \"2 in pvc pipe\"\n",
    "k= 5\n",
    "\n",
    "#Model initializations\n",
    "rm = ColbertRetriever(model_name = \"colbert\", documents = product_json[\"products\"])\n",
    "lm = dspy.LM(model = os.getenv(\"BASE_LLM\"), api_key = os.getenv(\"GROQ_API_KEY\"), temperature = 0.7)\n",
    "dspy.settings.configure(lm = lm, rm = rm)\n",
    "\n",
    "\n",
    "recsys = RecommendationSystem(k=k)\n",
    "recommended_products = recsys(product_query = query)\n",
    "\n",
    "#Dataset\n",
    "dataset = RecSysDataset(\"recsys_dataset.json\")"
   ]
  },
  {
   "cell_type": "code",
   "execution_count": 24,
   "metadata": {},
   "outputs": [],
   "source": [
    "# evaluator = dspy.Evaluate(\n",
    "#     devset = dataset.test(0, 6),\n",
    "#     metric = precision_at_k,\n",
    "#     # num_threads=4,\n",
    "#     # display_progress=True,\n",
    "#     display_table=True,\n",
    "#     # return_all_scores=True,\n",
    "#     # return_outputs=True,\n",
    "#     # provide_traceback=True,\n",
    "# )\n",
    "# scores = evaluator(recsys)"
   ]
  },
  {
   "cell_type": "code",
   "execution_count": 25,
   "metadata": {},
   "outputs": [],
   "source": [
    "trainset = dataset.train(0, 6)\n",
    "optimizer = dspy.teleprompt.LabeledFewShot(\n",
    "    k=4\n",
    ")\n",
    "# optimizer.compile(\n",
    "#     student = recsys,\n",
    "#     trainset = trainset,\n",
    "# )\n"
   ]
  },
  {
   "cell_type": "code",
   "execution_count": 28,
   "metadata": {},
   "outputs": [],
   "source": [
    "trainset = dataset.train(0, 6)\n",
    "optimizer = dspy.teleprompt.BootstrapFewShot(\n",
    "    metric=precision_at_k,\n",
    "    max_labeled_demos=2,\n",
    "    max_bootstrapped_demos=6\n",
    ")"
   ]
  },
  {
   "cell_type": "code",
   "execution_count": 29,
   "metadata": {},
   "outputs": [],
   "source": [
    "# compiled_program = optimizer.compile(\n",
    "#     student = recsys,\n",
    "#     trainset = trainset\n",
    "# )"
   ]
  },
  {
   "cell_type": "code",
   "execution_count": 30,
   "metadata": {},
   "outputs": [],
   "source": [
    "# compiled_program.save(\"recsys_bootstrapfeshot.json\")"
   ]
  },
  {
   "cell_type": "code",
   "execution_count": 31,
   "metadata": {},
   "outputs": [],
   "source": [
    "# lm.inspect_history(n=1)"
   ]
  },
  {
   "cell_type": "code",
   "execution_count": 32,
   "metadata": {},
   "outputs": [],
   "source": [
    "# compiled_program.save(path = \"recsys_labelled_fewshot.json\", save_program=False)"
   ]
  },
  {
   "cell_type": "code",
   "execution_count": 33,
   "metadata": {},
   "outputs": [],
   "source": [
    "# opt_program = recsys.load(r\"./recsys_labelled_fewshot.json\")"
   ]
  },
  {
   "cell_type": "code",
   "execution_count": 34,
   "metadata": {},
   "outputs": [
    {
     "name": "stdout",
     "output_type": "stream",
     "text": [
      "Going to sample between 1 and 2 traces per predictor.\n",
      "Will attempt to bootstrap 0 candidate sets.\n"
     ]
    }
   ],
   "source": [
    "bs_fewshot_rs = dspy.BootstrapFewShotWithRandomSearch(\n",
    "    metric = precision_at_k,\n",
    "    max_bootstrapped_demos=2,\n",
    "    max_labeled_demos=3,\n",
    "    max_rounds=1,\n",
    "    num_candidate_programs=0,\n",
    "    num_threads=1,\n",
    "    max_errors=10,\n",
    "    stop_at_score=None,\n",
    "    metric_threshold=None,\n",
    ")"
   ]
  },
  {
   "cell_type": "code",
   "execution_count": 35,
   "metadata": {},
   "outputs": [
    {
     "name": "stdout",
     "output_type": "stream",
     "text": [
      "  0%|          | 0/2 [00:00<?, ?it/s]"
     ]
    },
    {
     "name": "stderr",
     "output_type": "stream",
     "text": [
      "2025/03/25 13:35:23 ERROR dspy.utils.parallelizer: Error processing item Example({'product_query': 'I want a 2 in pvc pipe', 'rec_id': '[7, 9, 2]'}) (input_keys={'product_query'}): module 'dspy' has no attribute 'settings'. Set `provide_traceback=True` to see the stack trace.\n"
     ]
    },
    {
     "name": "stdout",
     "output_type": "stream",
     "text": [
      "Average Metric: 0.00 / 2 (0.0%):   0%|          | 0/2 [00:00<?, ?it/s]"
     ]
    },
    {
     "name": "stderr",
     "output_type": "stream",
     "text": [
      "2025/03/25 13:35:23 ERROR dspy.utils.parallelizer: Error processing item Example({'product_query': 'I want a 1 in pvc conduit', 'rec_id': '[8, 4, 1]'}) (input_keys={'product_query'}): module 'dspy' has no attribute 'settings'. Set `provide_traceback=True` to see the stack trace.\n"
     ]
    },
    {
     "name": "stdout",
     "output_type": "stream",
     "text": [
      "Average Metric: 0.00 / 2 (0.0%): 100%|██████████| 2/2 [00:00<00:00, 189.30it/s]"
     ]
    },
    {
     "name": "stderr",
     "output_type": "stream",
     "text": [
      "2025/03/25 13:35:23 INFO dspy.evaluate.evaluate: Average Metric: 0.0 / 2 (0.0%)\n"
     ]
    },
    {
     "name": "stdout",
     "output_type": "stream",
     "text": [
      "\n",
      "New best score: 0.0 for seed -3\n",
      "Scores so far: [0.0]\n",
      "Best score so far: 0.0\n",
      "  0%|          | 0/2 [00:00<?, ?it/s]"
     ]
    },
    {
     "name": "stderr",
     "output_type": "stream",
     "text": [
      "2025/03/25 13:35:23 ERROR dspy.utils.parallelizer: Error processing item Example({'product_query': 'I want a 2 in pvc pipe', 'rec_id': '[7, 9, 2]'}) (input_keys={'product_query'}): module 'dspy' has no attribute 'settings'. Set `provide_traceback=True` to see the stack trace.\n"
     ]
    },
    {
     "name": "stdout",
     "output_type": "stream",
     "text": [
      "Average Metric: 0.00 / 2 (0.0%):   0%|          | 0/2 [00:00<?, ?it/s]"
     ]
    },
    {
     "name": "stderr",
     "output_type": "stream",
     "text": [
      "2025/03/25 13:35:23 ERROR dspy.utils.parallelizer: Error processing item Example({'product_query': 'I want a 1 in pvc conduit', 'rec_id': '[8, 4, 1]'}) (input_keys={'product_query'}): module 'dspy' has no attribute 'settings'. Set `provide_traceback=True` to see the stack trace.\n"
     ]
    },
    {
     "name": "stdout",
     "output_type": "stream",
     "text": [
      "Average Metric: 0.00 / 2 (0.0%): 100%|██████████| 2/2 [00:00<00:00, 231.72it/s]"
     ]
    },
    {
     "name": "stderr",
     "output_type": "stream",
     "text": [
      "2025/03/25 13:35:23 INFO dspy.evaluate.evaluate: Average Metric: 0.0 / 2 (0.0%)\n"
     ]
    },
    {
     "name": "stdout",
     "output_type": "stream",
     "text": [
      "\n",
      "Scores so far: [0.0, 0.0]\n",
      "Best score so far: 0.0\n"
     ]
    },
    {
     "name": "stderr",
     "output_type": "stream",
     "text": [
      "  0%|          | 0/6 [00:00<?, ?it/s]2025/03/25 13:35:23 ERROR dspy.teleprompt.bootstrap: Failed to run or to evaluate example Example({'product_query': '1 want a 1 in pvc conduit', 'rec_id': '[1, 4, 8]'}) (input_keys={'product_query'}) with <function precision_at_k at 0x000001D74F90FC40> due to module 'dspy' has no attribute 'settings'.\n",
      "2025/03/25 13:35:23 ERROR dspy.teleprompt.bootstrap: Failed to run or to evaluate example Example({'product_query': 'I want a 2 in pvc pipe', 'rec_id': '[2, 7, 9]'}) (input_keys={'product_query'}) with <function precision_at_k at 0x000001D74F90FC40> due to module 'dspy' has no attribute 'settings'.\n",
      "2025/03/25 13:35:23 ERROR dspy.teleprompt.bootstrap: Failed to run or to evaluate example Example({'product_query': 'I want a 400 in lead connector', 'rec_id': '[3, 1, 4]'}) (input_keys={'product_query'}) with <function precision_at_k at 0x000001D74F90FC40> due to module 'dspy' has no attribute 'settings'.\n",
      "2025/03/25 13:35:23 ERROR dspy.teleprompt.bootstrap: Failed to run or to evaluate example Example({'product_query': 'I want a blk 1 in pvc conduit', 'rec_id': '[4, 1, 8]'}) (input_keys={'product_query'}) with <function precision_at_k at 0x000001D74F90FC40> due to module 'dspy' has no attribute 'settings'.\n",
      "2025/03/25 13:35:23 ERROR dspy.teleprompt.bootstrap: Failed to run or to evaluate example Example({'product_query': 'I want a yellow 20 in pvc conduit', 'rec_id': '[5, 6, 7]'}) (input_keys={'product_query'}) with <function precision_at_k at 0x000001D74F90FC40> due to module 'dspy' has no attribute 'settings'.\n",
      "2025/03/25 13:35:23 ERROR dspy.teleprompt.bootstrap: Failed to run or to evaluate example Example({'product_query': 'I want a 1 in pvc pipe', 'rec_id': '[6, 7, 9]'}) (input_keys={'product_query'}) with <function precision_at_k at 0x000001D74F90FC40> due to module 'dspy' has no attribute 'settings'.\n",
      "100%|██████████| 6/6 [00:00<00:00, 596.08it/s]\n"
     ]
    },
    {
     "name": "stdout",
     "output_type": "stream",
     "text": [
      "Bootstrapped 0 full traces after 5 examples for up to 1 rounds, amounting to 6 attempts.\n",
      "  0%|          | 0/2 [00:00<?, ?it/s]"
     ]
    },
    {
     "name": "stderr",
     "output_type": "stream",
     "text": [
      "2025/03/25 13:35:23 ERROR dspy.utils.parallelizer: Error processing item Example({'product_query': 'I want a 2 in pvc pipe', 'rec_id': '[7, 9, 2]'}) (input_keys={'product_query'}): module 'dspy' has no attribute 'settings'. Set `provide_traceback=True` to see the stack trace.\n"
     ]
    },
    {
     "name": "stdout",
     "output_type": "stream",
     "text": [
      "Average Metric: 0.00 / 2 (0.0%):   0%|          | 0/2 [00:00<?, ?it/s]"
     ]
    },
    {
     "name": "stderr",
     "output_type": "stream",
     "text": [
      "2025/03/25 13:35:23 ERROR dspy.utils.parallelizer: Error processing item Example({'product_query': 'I want a 1 in pvc conduit', 'rec_id': '[8, 4, 1]'}) (input_keys={'product_query'}): module 'dspy' has no attribute 'settings'. Set `provide_traceback=True` to see the stack trace.\n"
     ]
    },
    {
     "name": "stdout",
     "output_type": "stream",
     "text": [
      "Average Metric: 0.00 / 2 (0.0%): 100%|██████████| 2/2 [00:00<00:00, 173.18it/s]"
     ]
    },
    {
     "name": "stderr",
     "output_type": "stream",
     "text": [
      "2025/03/25 13:35:23 INFO dspy.evaluate.evaluate: Average Metric: 0.0 / 2 (0.0%)\n"
     ]
    },
    {
     "name": "stdout",
     "output_type": "stream",
     "text": [
      "\n",
      "Scores so far: [0.0, 0.0, 0.0]\n",
      "Best score so far: 0.0\n",
      "3 candidate programs found.\n"
     ]
    }
   ],
   "source": [
    "new_program = bs_fewshot_rs.compile(\n",
    "    student = recsys,\n",
    "    trainset = dataset.train(0,6),\n",
    "    valset = dataset.dev(6,8)\n",
    ")"
   ]
  },
  {
   "cell_type": "code",
   "execution_count": 36,
   "metadata": {},
   "outputs": [
    {
     "data": {
      "text/plain": [
       "[{'score': 0.0,\n",
       "  'subscores': [0.0, 0.0],\n",
       "  'seed': -3,\n",
       "  'program': recommendation_system.predict = Predict(StringSignature(product_query, retrieved_products -> reasoning, recommended_product_ids\n",
       "      instructions='You are an AI Assistant that recommends products to users based on their queries.'\n",
       "      product_query = Field(annotation=str required=True json_schema_extra={'__dspy_field_type': 'input', 'prefix': 'Product Query:', 'desc': '${product_query}'})\n",
       "      retrieved_products = Field(annotation=list[Product] required=True json_schema_extra={'__dspy_field_type': 'input', 'prefix': 'Retrieved Products:', 'desc': '${retrieved_products}'})\n",
       "      reasoning = Field(annotation=str required=True json_schema_extra={'prefix': \"Reasoning: Let's think step by step in order to\", 'desc': '${reasoning}', '__dspy_field_type': 'output'})\n",
       "      recommended_product_ids = Field(annotation=list[int] required=True json_schema_extra={'desc': 'Give me top 3 recommended product ids. You have to return 3 product ids', '__dspy_field_type': 'output', 'prefix': 'Recommended Product Ids:'})\n",
       "  ))},\n",
       " {'score': 0.0,\n",
       "  'subscores': [0.0, 0.0],\n",
       "  'seed': -2,\n",
       "  'program': recommendation_system.predict = Predict(StringSignature(product_query, retrieved_products -> reasoning, recommended_product_ids\n",
       "      instructions='You are an AI Assistant that recommends products to users based on their queries.'\n",
       "      product_query = Field(annotation=str required=True json_schema_extra={'__dspy_field_type': 'input', 'prefix': 'Product Query:', 'desc': '${product_query}'})\n",
       "      retrieved_products = Field(annotation=list[Product] required=True json_schema_extra={'__dspy_field_type': 'input', 'prefix': 'Retrieved Products:', 'desc': '${retrieved_products}'})\n",
       "      reasoning = Field(annotation=str required=True json_schema_extra={'prefix': \"Reasoning: Let's think step by step in order to\", 'desc': '${reasoning}', '__dspy_field_type': 'output'})\n",
       "      recommended_product_ids = Field(annotation=list[int] required=True json_schema_extra={'desc': 'Give me top 3 recommended product ids. You have to return 3 product ids', '__dspy_field_type': 'output', 'prefix': 'Recommended Product Ids:'})\n",
       "  ))},\n",
       " {'score': 0.0,\n",
       "  'subscores': [0.0, 0.0],\n",
       "  'seed': -1,\n",
       "  'program': recommendation_system.predict = Predict(StringSignature(product_query, retrieved_products -> reasoning, recommended_product_ids\n",
       "      instructions='You are an AI Assistant that recommends products to users based on their queries.'\n",
       "      product_query = Field(annotation=str required=True json_schema_extra={'__dspy_field_type': 'input', 'prefix': 'Product Query:', 'desc': '${product_query}'})\n",
       "      retrieved_products = Field(annotation=list[Product] required=True json_schema_extra={'__dspy_field_type': 'input', 'prefix': 'Retrieved Products:', 'desc': '${retrieved_products}'})\n",
       "      reasoning = Field(annotation=str required=True json_schema_extra={'prefix': \"Reasoning: Let's think step by step in order to\", 'desc': '${reasoning}', '__dspy_field_type': 'output'})\n",
       "      recommended_product_ids = Field(annotation=list[int] required=True json_schema_extra={'desc': 'Give me top 3 recommended product ids. You have to return 3 product ids', '__dspy_field_type': 'output', 'prefix': 'Recommended Product Ids:'})\n",
       "  ))}]"
      ]
     },
     "execution_count": 36,
     "metadata": {},
     "output_type": "execute_result"
    }
   ],
   "source": [
    "new_program.candidate_programs"
   ]
  }
 ],
 "metadata": {
  "kernelspec": {
   "display_name": "dspy-experimentation",
   "language": "python",
   "name": "python3"
  },
  "language_info": {
   "codemirror_mode": {
    "name": "ipython",
    "version": 3
   },
   "file_extension": ".py",
   "mimetype": "text/x-python",
   "name": "python",
   "nbconvert_exporter": "python",
   "pygments_lexer": "ipython3",
   "version": "3.11.9"
  }
 },
 "nbformat": 4,
 "nbformat_minor": 2
}
