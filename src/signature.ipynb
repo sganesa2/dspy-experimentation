{
 "cells": [
  {
   "cell_type": "code",
   "execution_count": 3,
   "metadata": {},
   "outputs": [
    {
     "data": {
      "text/plain": [
       "True"
      ]
     },
     "execution_count": 3,
     "metadata": {},
     "output_type": "execute_result"
    }
   ],
   "source": [
    "\n",
    "import dspy\n",
    "import os\n",
    "from pathlib import Path\n",
    "from dotenv import load_dotenv\n",
    "load_dotenv(Path(r\"utils/.env\"))"
   ]
  },
  {
   "cell_type": "code",
   "execution_count": null,
   "metadata": {},
   "outputs": [],
   "source": [
    "from utils.rec_system import RecSysDataset, RecommendationSystem\n",
    "from utils.retriever import ColbertRetriever\n",
    "from utils.metrics import precision_at_k\n",
    "import json\n",
    "\n",
    "#Complete list of products to retrieve from\n",
    "with open(Path(r\"./products.json\"), 'r') as f:\n",
    "    product_json = json.loads(f.read())\n",
    "\n",
    "#Input\n",
    "query = \"2 in pvc pipe\"\n",
    "k= 5\n",
    "\n",
    "#Model initializations\n",
    "rm = ColbertRetriever(model_name = \"colbert\", documents = product_json[\"products\"])\n",
    "lm = dspy.LM(model = os.getenv(\"BASE_LLM\"), api_key = os.getenv(\"GROQ_API_KEY\"), temperature = 0.7)\n",
    "dspy.settings.configure(lm = lm, rm = rm)\n",
    "\n",
    "\n",
    "recsys = RecommendationSystem(k=k)\n",
    "recommended_products = recsys(product_query = query)\n",
    "\n",
    "#Dataset\n",
    "dataset = RecSysDataset(\"recsys_dataset.json\")"
   ]
  },
  {
   "cell_type": "code",
   "execution_count": null,
   "metadata": {},
   "outputs": [],
   "source": [
    "bs_fewshot_rs = dspy.BootstrapFewShotWithRandomSearch(\n",
    "    metric = precision_at_k,\n",
    "    max_bootstrapped_demos=2,\n",
    "    max_labeled_demos=3,\n",
    "    max_rounds=1,\n",
    "    num_candidate_programs=0,\n",
    "    num_threads=1,\n",
    "    max_errors=10,\n",
    "    stop_at_score=None,\n",
    "    metric_threshold=None,\n",
    ")"
   ]
  },
  {
   "cell_type": "code",
   "execution_count": null,
   "metadata": {},
   "outputs": [],
   "source": [
    "new_program = bs_fewshot_rs.compile(\n",
    "    student = recsys,\n",
    "    trainset = dataset.train(0,6),\n",
    "    valset = dataset.dev(6,8)\n",
    ")"
   ]
  }
 ],
 "metadata": {
  "kernelspec": {
   "display_name": "dspy-experimentation",
   "language": "python",
   "name": "python3"
  },
  "language_info": {
   "codemirror_mode": {
    "name": "ipython",
    "version": 3
   },
   "file_extension": ".py",
   "mimetype": "text/x-python",
   "name": "python",
   "nbconvert_exporter": "python",
   "pygments_lexer": "ipython3",
   "version": "3.11.9"
  }
 },
 "nbformat": 4,
 "nbformat_minor": 2
}
